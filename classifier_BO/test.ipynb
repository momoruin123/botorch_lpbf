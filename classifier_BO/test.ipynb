{
 "cells": [
  {
   "cell_type": "code",
   "id": "initial_id",
   "metadata": {
    "collapsed": true,
    "ExecuteTime": {
     "end_time": "2025-07-02T07:30:03.218700Z",
     "start_time": "2025-07-02T07:29:57.521118Z"
    }
   },
   "source": [
    "import pandas as pd\n",
    "import torch\n",
    "from botorch.optim import optimize_acqf\n",
    "from models import SingleTaskGP_model\n",
    "import matplotlib\n",
    "from pathlib import Path\n",
    "from optimization import qLogEHVI\n",
    "from optimization.qLogEHVI import build_acq_fun\n",
    "\n",
    "\n",
    "current_dir = Path.cwd()\n",
    "csv_path = current_dir.parent / \"data\" / \"classifier_BO.csv\"\n",
    "df = pd.read_csv(csv_path)\n",
    "X = torch.tensor(df[[\"power\", \"hatch_distance\", \"outline_power\"]].values, dtype=torch.double)\n",
    "Y = torch.tensor(df[[\"fused\", \"edge_clarity\", \"label_visibility\", \"surface_uniformity\"]].values, dtype=torch.double)\n",
    "Y = Y[:, 1:]  # only need the last three columns\n",
    "print(X.shape, Y.shape)"
   ],
   "outputs": [
    {
     "name": "stdout",
     "output_type": "stream",
     "text": [
      "torch.Size([40, 3]) torch.Size([40, 3])\n"
     ]
    }
   ],
   "execution_count": 1
  },
  {
   "metadata": {
    "ExecuteTime": {
     "end_time": "2025-07-02T07:33:18.637263Z",
     "start_time": "2025-07-02T07:33:17.848492Z"
    }
   },
   "cell_type": "code",
   "source": [
    "# Set parameters limit（P, v, t, h）\n",
    "bounds = torch.tensor([\n",
    "    [25, 0.1, 25],  # Upper bounds\n",
    "    [300, 0.6, 300]  # Lower bounds\n",
    "], dtype=torch.double)\n",
    "\n",
    "model = SingleTaskGP_model.build_model(X, Y)\n",
    "test_x = torch.rand(10, 3, dtype=torch.double, requires_grad=True)\n",
    "test_x = bounds[0] + (bounds[1] - bounds[0]) * test_x\n",
    "preds = SingleTaskGP_model.predict(model, test_x)\n",
    "preds"
   ],
   "id": "89acadd3b8e9bfe7",
   "outputs": [
    {
     "data": {
      "text/plain": [
       "[tensor([[7.2327],\n",
       "         [4.2373],\n",
       "         [2.0683],\n",
       "         [5.9315],\n",
       "         [6.4582],\n",
       "         [4.5954],\n",
       "         [6.7178],\n",
       "         [6.8800],\n",
       "         [2.9866],\n",
       "         [7.9702]], dtype=torch.float64),\n",
       " tensor([[3.8471],\n",
       "         [2.9926],\n",
       "         [0.3901],\n",
       "         [4.8454],\n",
       "         [2.6602],\n",
       "         [0.6230],\n",
       "         [2.1643],\n",
       "         [3.3240],\n",
       "         [1.6577],\n",
       "         [6.9683]], dtype=torch.float64),\n",
       " tensor([[5.8727],\n",
       "         [4.8709],\n",
       "         [4.8150],\n",
       "         [4.5841],\n",
       "         [3.9870],\n",
       "         [4.3388],\n",
       "         [7.1136],\n",
       "         [5.5897],\n",
       "         [2.7008],\n",
       "         [6.6636]], dtype=torch.float64)]"
      ]
     },
     "execution_count": 4,
     "metadata": {},
     "output_type": "execute_result"
    }
   ],
   "execution_count": 4
  },
  {
   "metadata": {},
   "cell_type": "code",
   "outputs": [],
   "execution_count": null,
   "source": "",
   "id": "cc37e5433e956bb3"
  }
 ],
 "metadata": {
  "kernelspec": {
   "display_name": "Python 3",
   "language": "python",
   "name": "python3"
  },
  "language_info": {
   "codemirror_mode": {
    "name": "ipython",
    "version": 2
   },
   "file_extension": ".py",
   "mimetype": "text/x-python",
   "name": "python",
   "nbconvert_exporter": "python",
   "pygments_lexer": "ipython2",
   "version": "2.7.6"
  }
 },
 "nbformat": 4,
 "nbformat_minor": 5
}
