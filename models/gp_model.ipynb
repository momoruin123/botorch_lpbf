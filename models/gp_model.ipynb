{
 "cells": [
  {
   "metadata": {
    "ExecuteTime": {
     "end_time": "2025-06-24T14:02:40.919871Z",
     "start_time": "2025-06-24T14:02:40.285686Z"
    }
   },
   "cell_type": "code",
   "source": [
    "import torch\n",
    "from botorch.models import SingleTaskGP, ModelListGP\n",
    "from botorch.models.transforms import Normalize, Standardize\n",
    "from gpytorch.mlls import ExactMarginalLogLikelihood\n",
    "from botorch.fit import fit_gpytorch_mll\n",
    "\n",
    "# INITIALIZATION\n",
    "# Sample Specifications: X_k = [density, roughness, time]\n",
    "K = 8 # Number of Samples\n",
    "M = 4 # Number of Tasks\n",
    "N = 3 # Number of Targets\n",
    "\n",
    "# 假设 train_X 形状为 (N, 4) -> 4个工艺参数\n",
    "train_X = torch.tensor([\n",
    "    [100, 800, 0.1, 0.08],\n",
    "    [120, 1000, 0.1, 0.10],\n",
    "    [80,  900, 0.12, 0.07],\n",
    "    [110, 1100, 0.1, 0.09],\n",
    "    [95,  850, 0.11, 0.08],\n",
    "    [105, 950, 0.1, 0.07],\n",
    "    [90,  1000, 0.13, 0.1],\n",
    "    [115, 970, 0.09, 0.08],\n",
    "], dtype=torch.double)\n",
    "\n",
    "# train_Y shape = (N, 3) -> 三个目标\n",
    "train_Y = torch.tensor([\n",
    "    [0.98, 8.5, 12.0],   # [Density, Roughness, Time]\n",
    "    [0.96, 9.0, 10.5],\n",
    "    [0.92, 10.5, 11.5],\n",
    "    [0.97, 8.0, 10.0],\n",
    "    [0.95, 9.3, 12.2],\n",
    "    [0.96, 9.1, 11.0],\n",
    "    [0.93, 10.0, 12.5],\n",
    "    [0.97, 8.7, 10.3],\n",
    "], dtype=torch.double)\n",
    "\n",
    "# Single GP，add Normalize and Standardize\n",
    "model_density = SingleTaskGP(train_X, train_Y[:, 0:1],\n",
    "                             input_transform=Normalize(d=M),\n",
    "                             outcome_transform=Standardize(m=1))\n",
    "\n",
    "model_roughness = SingleTaskGP(train_X, train_Y[:, 1:2],\n",
    "                               input_transform=Normalize(d=M),\n",
    "                               outcome_transform=Standardize(m=1))\n",
    "\n",
    "model_time = SingleTaskGP(train_X, train_Y[:, 2:2+1],\n",
    "                          input_transform=Normalize(d=M),\n",
    "                          outcome_transform=Standardize(m=1))\n",
    "# Merge Model\n",
    "model = ModelListGP(model_density, model_roughness, model_time)\n",
    "\n",
    "mlls = [ExactMarginalLogLikelihood(m.likelihood, m) for m in model.models]\n",
    "for mll in mlls:\n",
    "    fit_gpytorch_mll(mll)\n",
    "\n",
    "# TEST\n",
    "test_X = torch.tensor([\n",
    "    [100, 950, 0.1, 0.08],\n",
    "    [110, 1000, 0.1, 0.09],\n",
    "    [90, 900, 0.12, 0.07],\n",
    "    [100, 800, 0.1, 0.08],\n",
    "], dtype=torch.double)\n",
    "\n",
    "model.eval()\n",
    "with torch.no_grad():\n",
    "    posterior_density = model.models[0].posterior(test_X)\n",
    "    posterior_roughness = model.models[1].posterior(test_X)\n",
    "    posterior_time = model.models[2].posterior(test_X)\n",
    "\n",
    "    mean_density = posterior_density.mean\n",
    "    mean_roughness = posterior_roughness.mean\n",
    "    mean_time = posterior_time.mean\n",
    "\n",
    "print(\"Density prediction:\\n\", mean_density)\n",
    "print(\"Roughness prediction:\\n\", mean_roughness)\n",
    "print(\"Processing Time prediction:\\n\", mean_time)\n",
    "\n"
   ],
   "id": "80985166f0a42e40",
   "outputs": [
    {
     "name": "stdout",
     "output_type": "stream",
     "text": [
      "Density prediction:\n",
      " tensor([[0.9594],\n",
      "        [0.9601],\n",
      "        [0.9217],\n",
      "        [0.9798]], dtype=torch.float64)\n",
      "Roughness prediction:\n",
      " tensor([[ 9.2566],\n",
      "        [ 8.9068],\n",
      "        [10.2445],\n",
      "        [ 8.5048]], dtype=torch.float64)\n",
      "Processing Time prediction:\n",
      " tensor([[11.5986],\n",
      "        [10.3295],\n",
      "        [12.1438],\n",
      "        [11.9870]], dtype=torch.float64)\n"
     ]
    }
   ],
   "execution_count": 7
  },
  {
   "metadata": {
    "ExecuteTime": {
     "end_time": "2025-06-30T12:51:54.291069Z",
     "start_time": "2025-06-30T12:51:54.261924Z"
    }
   },
   "cell_type": "code",
   "source": [
    "import torch\n",
    "test_X = torch.tensor([\n",
    "    [100, 950, 0.1, 0.08],\n",
    "    [110, 1000, 0.1, 0.09],\n",
    "    [90, 900, 0.12, 0.07],\n",
    "], dtype=torch.double)\n",
    "print(test_X.shape[4])"
   ],
   "id": "da69bb1fda7616ce",
   "outputs": [
    {
     "name": "stdout",
     "output_type": "stream",
     "text": [
      "3\n"
     ]
    }
   ],
   "execution_count": 5
  },
  {
   "metadata": {},
   "cell_type": "code",
   "outputs": [],
   "execution_count": null,
   "source": "",
   "id": "3a232817b1d99779"
  }
 ],
 "metadata": {
  "kernelspec": {
   "display_name": "Python 3",
   "language": "python",
   "name": "python3"
  },
  "language_info": {
   "codemirror_mode": {
    "name": "ipython",
    "version": 2
   },
   "file_extension": ".py",
   "mimetype": "text/x-python",
   "name": "python",
   "nbconvert_exporter": "python",
   "pygments_lexer": "ipython2",
   "version": "2.7.6"
  }
 },
 "nbformat": 4,
 "nbformat_minor": 5
}
