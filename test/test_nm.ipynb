{
 "cells": [
  {
   "metadata": {
    "ExecuteTime": {
     "end_time": "2025-06-30T12:58:57.313495Z",
     "start_time": "2025-06-30T12:58:57.293027Z"
    }
   },
   "cell_type": "code",
   "source": [
    "import torch\n",
    "from models import black_box\n",
    "\n",
    "torch.manual_seed(42)  # fix random seed\n",
    "\n",
    "# Set parameters limit（P, v, t, h）\n",
    "bounds = torch.tensor([\n",
    "    [50, 200, 0.09, 0.1],  # Upper bounds\n",
    "    [150, 1000, 0.13, 0.4]  # Lower bounds\n",
    "], dtype=torch.double)\n",
    "\n",
    "N_init = 16\n",
    "source_X = torch.rand(N_init, 4) * (bounds[1] - bounds[0]) + bounds[0]\n",
    "source_Y = black_box.func_1(source_X)\n",
    "print(source_X,source_Y)"
   ],
   "id": "d535d4d2ba35b711",
   "outputs": [
    {
     "name": "stdout",
     "output_type": "stream",
     "text": [
      "tensor([[1.3823e+02, 9.3200e+02, 1.0531e-01, 3.8779e-01],\n",
      "        [8.9045e+01, 6.8072e+02, 1.0026e-01, 3.3809e-01],\n",
      "        [1.4408e+02, 3.0655e+02, 1.2738e-01, 2.7807e-01],\n",
      "        [1.3694e+02, 6.5417e+02, 1.1964e-01, 2.2882e-01],\n",
      "        [1.3854e+02, 6.5912e+02, 1.0066e-01, 2.8823e-01],\n",
      "        [7.6963e+01, 5.5309e+02, 1.0188e-01, 3.4951e-01],\n",
      "        [6.0531e+01, 4.1560e+02, 1.0435e-01, 1.5981e-01],\n",
      "        [1.0472e+02, 2.0493e+02, 1.2806e-01, 1.2258e-01],\n",
      "        [1.3860e+02, 6.6657e+02, 1.0351e-01, 3.4269e-01],\n",
      "        [1.0779e+02, 9.2319e+02, 1.1219e-01, 2.0269e-01],\n",
      "        [1.1343e+02, 4.9153e+02, 1.1842e-01, 3.8392e-01],\n",
      "        [1.2890e+02, 4.2513e+02, 1.2155e-01, 2.7684e-01],\n",
      "        [1.2539e+02, 3.5620e+02, 9.0202e-02, 1.9205e-01],\n",
      "        [6.1649e+01, 9.2822e+02, 1.1576e-01, 3.1213e-01],\n",
      "        [1.1581e+02, 5.9304e+02, 1.2565e-01, 1.4342e-01],\n",
      "        [1.0315e+02, 3.2698e+02, 1.1617e-01, 1.9834e-01]], dtype=torch.float64) tensor([[  0.9438,  -5.7789,  -6.1106],\n",
      "        [  0.9483,  -5.6825,  -6.8253],\n",
      "        [  0.9386,  -5.6661,  -8.3551],\n",
      "        [  0.9527,  -5.5152,  -9.8249],\n",
      "        [  0.9576,  -5.6145,  -7.8523],\n",
      "        [  0.9491,  -5.7061,  -6.6483],\n",
      "        [  0.9512,  -5.3675, -13.4661],\n",
      "        [  0.8984,  -5.3946, -17.4929],\n",
      "        [  0.9598,  -5.7132,  -6.7752],\n",
      "        [  0.9560,  -5.4382, -10.8822],\n",
      "        [  0.9576,  -5.7995,  -6.2853],\n",
      "        [  0.9499,  -5.6256,  -8.3301],\n",
      "        [  0.9319,  -5.4667, -11.2400],\n",
      "        [  0.8341,  -5.6171,  -7.4548],\n",
      "        [  0.9412,  -5.3600, -15.0841],\n",
      "        [  0.9378,  -5.4845, -11.1444]], dtype=torch.float64)\n"
     ]
    }
   ],
   "execution_count": 5
  },
  {
   "metadata": {
    "ExecuteTime": {
     "end_time": "2025-06-30T12:58:58.627341Z",
     "start_time": "2025-06-30T12:58:58.596897Z"
    }
   },
   "cell_type": "code",
   "source": [
    "N_init = 16\n",
    "target_X = torch.rand(N_init, 4) * (bounds[1] - bounds[0]) + bounds[0]\n",
    "target_Y = black_box.func_2(target_X)\n",
    "print(target_X,target_Y)"
   ],
   "id": "3b6a7bdfb8bcfaf9",
   "outputs": [
    {
     "name": "stdout",
     "output_type": "stream",
     "text": [
      "tensor([[1.1532e+02, 5.1666e+02, 1.2659e-01, 1.6109e-01],\n",
      "        [7.0180e+01, 3.6143e+02, 1.2799e-01, 2.9999e-01],\n",
      "        [1.4811e+02, 2.6989e+02, 9.0162e-02, 1.3265e-01],\n",
      "        [6.6366e+01, 7.6202e+02, 1.1716e-01, 3.7464e-01],\n",
      "        [7.4179e+01, 3.2732e+02, 1.2061e-01, 1.8937e-01],\n",
      "        [1.3035e+02, 5.0508e+02, 1.2144e-01, 1.3345e-01],\n",
      "        [7.4768e+01, 7.2195e+02, 1.1423e-01, 2.1176e-01],\n",
      "        [1.2980e+02, 8.7192e+02, 9.5497e-02, 1.6992e-01],\n",
      "        [1.4578e+02, 4.6503e+02, 1.0291e-01, 1.0486e-01],\n",
      "        [7.1366e+01, 6.9992e+02, 1.0736e-01, 1.4112e-01],\n",
      "        [1.0117e+02, 3.2677e+02, 9.3032e-02, 1.6740e-01],\n",
      "        [5.6239e+01, 3.4530e+02, 1.2999e-01, 2.7833e-01],\n",
      "        [1.1541e+02, 2.2693e+02, 9.6865e-02, 2.0007e-01],\n",
      "        [1.0782e+02, 2.4803e+02, 1.0138e-01, 1.6020e-01],\n",
      "        [1.0014e+02, 4.5116e+02, 1.0861e-01, 1.4836e-01],\n",
      "        [6.5680e+01, 3.6664e+02, 1.0315e-01, 1.3161e-01]], dtype=torch.float64) tensor([[  0.9604,  -6.4350, -16.7944],\n",
      "        [  0.9675,  -6.7347,  -9.6274],\n",
      "        [  0.9301,  -6.4137, -19.7674],\n",
      "        [  0.8527,  -6.8698,  -7.8513],\n",
      "        [  0.9635,  -6.4963, -14.4231],\n",
      "        [  0.9526,  -6.3799, -19.9572],\n",
      "        [  0.9617,  -6.5156, -12.9552],\n",
      "        [  0.9677,  -6.4304, -15.6735],\n",
      "        [  0.9399,  -6.3213, -24.8810],\n",
      "        [  0.9693,  -6.3584, -18.7965],\n",
      "        [  0.9535,  -6.4547, -15.8799],\n",
      "        [  0.9635,  -6.6803, -10.2965],\n",
      "        [  0.9466,  -6.5595, -13.4862],\n",
      "        [  0.9441,  -6.4625, -16.6395],\n",
      "        [  0.9582,  -6.4018, -17.9486],\n",
      "        [  0.9596,  -6.3547, -20.0410]], dtype=torch.float64)\n"
     ]
    }
   ],
   "execution_count": 6
  },
  {
   "metadata": {
    "ExecuteTime": {
     "end_time": "2025-06-30T12:59:04.385239Z",
     "start_time": "2025-06-30T12:58:59.562084Z"
    }
   },
   "cell_type": "code",
   "source": [
    "import models.icm_model as icm_model\n",
    "model = icm_model.build_model(source_X, source_X, target_X, target_Y)"
   ],
   "id": "b6f5f01018f50111",
   "outputs": [],
   "execution_count": 7
  },
  {
   "metadata": {
    "ExecuteTime": {
     "end_time": "2025-06-30T12:59:10.283304Z",
     "start_time": "2025-06-30T12:59:10.252750Z"
    }
   },
   "cell_type": "code",
   "source": [
    "test_x = torch.tensor([[120.0, 800.0, 0.1, 0.03]])  # 你的一个新参数点\n",
    "preds = icm_model.predict(model, test_x)\n",
    "\n",
    "print(\"Predicted density:\", preds[0])\n",
    "print(\"Predicted roughness:\", preds[1])\n",
    "print(\"Predicted time:\", preds[2])"
   ],
   "id": "2dbd993b74f24078",
   "outputs": [
    {
     "name": "stdout",
     "output_type": "stream",
     "text": [
      "Predicted density: tensor([[0.9491]], dtype=torch.float64)\n",
      "Predicted roughness: tensor([[-6.4986]], dtype=torch.float64)\n",
      "Predicted time: tensor([[-42.6477]], dtype=torch.float64)\n"
     ]
    }
   ],
   "execution_count": 9
  },
  {
   "metadata": {
    "ExecuteTime": {
     "end_time": "2025-06-30T12:59:19.919294Z",
     "start_time": "2025-06-30T12:59:19.888703Z"
    }
   },
   "cell_type": "code",
   "source": [
    "test_x = torch.tensor([[100.0, 800.0, 0.1, 0.03]])  # 你的一个新参数点\n",
    "preds = icm_model.predict(model, test_x)\n",
    "\n",
    "print(\"Predicted density:\", preds[0])\n",
    "print(\"Predicted roughness:\", preds[1])\n",
    "print(\"Predicted time:\", preds[2])"
   ],
   "id": "64ec19fea7a328cd",
   "outputs": [
    {
     "name": "stdout",
     "output_type": "stream",
     "text": [
      "Predicted density: tensor([[0.9499]], dtype=torch.float64)\n",
      "Predicted roughness: tensor([[-6.4986]], dtype=torch.float64)\n",
      "Predicted time: tensor([[-42.6194]], dtype=torch.float64)\n"
     ]
    }
   ],
   "execution_count": 10
  },
  {
   "metadata": {},
   "cell_type": "code",
   "outputs": [],
   "execution_count": null,
   "source": "",
   "id": "8607237138b8628c"
  }
 ],
 "metadata": {
  "kernelspec": {
   "display_name": "Python 3",
   "language": "python",
   "name": "python3"
  },
  "language_info": {
   "codemirror_mode": {
    "name": "ipython",
    "version": 2
   },
   "file_extension": ".py",
   "mimetype": "text/x-python",
   "name": "python",
   "nbconvert_exporter": "python",
   "pygments_lexer": "ipython2",
   "version": "2.7.6"
  }
 },
 "nbformat": 4,
 "nbformat_minor": 5
}
