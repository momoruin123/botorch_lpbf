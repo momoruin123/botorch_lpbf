{
 "cells": [
  {
   "cell_type": "code",
   "id": "initial_id",
   "metadata": {
    "collapsed": true,
    "ExecuteTime": {
     "end_time": "2025-06-24T15:03:41.363744Z",
     "start_time": "2025-06-24T15:03:37.104619Z"
    }
   },
   "source": [
    "import torch\n",
    "from models import gp_model\n",
    "\n",
    "# 假设 train_X 形状为 (N, 4) -> 4个工艺参数\n",
    "train_X = torch.tensor([\n",
    "    [100, 800, 0.1, 0.08],\n",
    "    [120, 1000, 0.1, 0.10],\n",
    "    [80,  900, 0.12, 0.07],\n",
    "    [110, 1100, 0.1, 0.09],\n",
    "    [95,  850, 0.11, 0.08],\n",
    "    [105, 950, 0.1, 0.07],\n",
    "    [90,  1000, 0.13, 0.1],\n",
    "    [115, 970, 0.09, 0.08],\n",
    "], dtype=torch.double)\n",
    "\n",
    "# train_Y shape = (N, 3) -> 三个目标\n",
    "train_Y = torch.tensor([\n",
    "    [0.98, 8.5, 12.0],   # [Density, Roughness, Time]\n",
    "    [0.96, 9.0, 10.5],\n",
    "    [0.92, 10.5, 11.5],\n",
    "    [0.97, 8.0, 10.0],\n",
    "    [0.95, 9.3, 12.2],\n",
    "    [0.96, 9.1, 11.0],\n",
    "    [0.93, 10.0, 12.5],\n",
    "    [0.97, 8.7, 10.3],\n",
    "], dtype=torch.double)\n",
    "\n",
    "model = gp_model.build_model(train_X, train_Y)\n",
    "# TEST\n",
    "test_X = torch.tensor([\n",
    "    [100, 950, 0.1, 0.08],\n",
    "    [110, 1000, 0.1, 0.09],\n",
    "    [90, 900, 0.12, 0.07],\n",
    "    [100, 800, 0.1, 0.08],\n",
    "], dtype=torch.double)\n",
    "\n",
    "mean_density, mean_roughness, mean_time = gp_model.predict(model, test_X)\n",
    "\n",
    "print(\"Density prediction:\\n\", mean_density)\n",
    "print(\"Roughness prediction:\\n\", mean_roughness)\n",
    "print(\"Processing Time prediction:\\n\", mean_time)"
   ],
   "outputs": [
    {
     "name": "stdout",
     "output_type": "stream",
     "text": [
      "Density prediction:\n",
      " tensor([[0.9594],\n",
      "        [0.9601],\n",
      "        [0.9217],\n",
      "        [0.9798]], dtype=torch.float64)\n",
      "Roughness prediction:\n",
      " tensor([[ 9.2566],\n",
      "        [ 8.9068],\n",
      "        [10.2445],\n",
      "        [ 8.5048]], dtype=torch.float64)\n",
      "Processing Time prediction:\n",
      " tensor([[11.5986],\n",
      "        [10.3295],\n",
      "        [12.1438],\n",
      "        [11.9870]], dtype=torch.float64)\n"
     ]
    }
   ],
   "execution_count": 1
  },
  {
   "metadata": {},
   "cell_type": "code",
   "source": "",
   "id": "70019f047fd6a2de",
   "outputs": [],
   "execution_count": null
  }
 ],
 "metadata": {
  "kernelspec": {
   "display_name": "Python 3",
   "language": "python",
   "name": "python3"
  },
  "language_info": {
   "codemirror_mode": {
    "name": "ipython",
    "version": 2
   },
   "file_extension": ".py",
   "mimetype": "text/x-python",
   "name": "python",
   "nbconvert_exporter": "python",
   "pygments_lexer": "ipython2",
   "version": "2.7.6"
  }
 },
 "nbformat": 4,
 "nbformat_minor": 5
}
