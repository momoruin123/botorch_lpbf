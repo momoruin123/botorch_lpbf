{
 "cells": [
  {
   "cell_type": "code",
   "id": "initial_id",
   "metadata": {
    "collapsed": true,
    "ExecuteTime": {
     "end_time": "2025-06-25T14:48:50.322353Z",
     "start_time": "2025-06-25T14:48:50.306956Z"
    }
   },
   "source": [
    "import torch\n",
    "from models import black_box\n",
    "\n",
    "# 设置工艺参数的上下限（顺序：P, v, t, h）\n",
    "bounds = torch.tensor([\n",
    "    [50, 200, 0.09, 0.1],   # 下限\n",
    "    [150, 1000, 0.13, 0.4]  # 上限\n",
    "], dtype=torch.double)\n",
    "\n",
    "N_init = 16  # 初始点个数\n",
    "X_init = torch.rand(N_init, 4) * (bounds[1] - bounds[0]) + bounds[0]\n",
    "Y_init = black_box.func(X_init)  # 使用你定义的黑盒函数\n"
   ],
   "outputs": [],
   "execution_count": 24
  },
  {
   "metadata": {
    "ExecuteTime": {
     "end_time": "2025-06-25T14:48:53.410279Z",
     "start_time": "2025-06-25T14:48:51.746340Z"
    }
   },
   "cell_type": "code",
   "source": [
    "from models.gp_model import build_model\n",
    "\n",
    "model = build_model(X_init, Y_init)\n",
    "\n",
    "slack = [-0.01, 0.5, 0.5]  # 每个目标的余量\n",
    "\n",
    "ref_point = [\n",
    "    Y_init[:, 0].min().item() - slack[0],  # Density（maximize）→ min 减\n",
    "    Y_init[:, 1].max().item() + slack[1],  # Roughness（minimize）→ max 加\n",
    "    Y_init[:, 2].max().item() + slack[2],  # Time（minimize）→ max 加\n",
    "]"
   ],
   "id": "8e69643ca1e3f405",
   "outputs": [],
   "execution_count": 25
  },
  {
   "metadata": {
    "ExecuteTime": {
     "end_time": "2025-06-25T14:48:57.611033Z",
     "start_time": "2025-06-25T14:48:55.136187Z"
    }
   },
   "cell_type": "code",
   "source": [
    "from optimization.qLogEHVI import optimize_acq_fun\n",
    "\n",
    "batch_size = 3\n",
    "X_next, _ = optimize_acq_fun(model, Y_init, bounds, batch_size=batch_size, ref_point=ref_point)"
   ],
   "id": "5d7e7422dfe1d75b",
   "outputs": [],
   "execution_count": 26
  },
  {
   "metadata": {
    "ExecuteTime": {
     "end_time": "2025-06-25T14:49:01.688388Z",
     "start_time": "2025-06-25T14:49:00.916048Z"
    }
   },
   "cell_type": "code",
   "source": [
    "Y_next = black_box.func(X_next)\n",
    "\n",
    "X_all = torch.cat([X_init, X_next], dim=0)\n",
    "Y_all = torch.cat([Y_init, Y_next], dim=0)\n",
    "\n",
    "# 再次训练 surrogate model\n",
    "model = build_model(X_all, Y_all)\n"
   ],
   "id": "e76f70ca64359388",
   "outputs": [],
   "execution_count": 27
  },
  {
   "metadata": {},
   "cell_type": "code",
   "outputs": [],
   "execution_count": null,
   "source": "",
   "id": "501fdd6c230b1040"
  }
 ],
 "metadata": {
  "kernelspec": {
   "display_name": "Python 3",
   "language": "python",
   "name": "python3"
  },
  "language_info": {
   "codemirror_mode": {
    "name": "ipython",
    "version": 2
   },
   "file_extension": ".py",
   "mimetype": "text/x-python",
   "name": "python",
   "nbconvert_exporter": "python",
   "pygments_lexer": "ipython2",
   "version": "2.7.6"
  }
 },
 "nbformat": 4,
 "nbformat_minor": 5
}
