{
 "cells": [
  {
   "cell_type": "code",
   "id": "initial_id",
   "metadata": {
    "collapsed": true,
    "ExecuteTime": {
     "end_time": "2025-06-25T09:59:21.322242Z",
     "start_time": "2025-06-25T09:59:19.310583Z"
    }
   },
   "source": "import torch",
   "outputs": [],
   "execution_count": 1
  },
  {
   "metadata": {
    "ExecuteTime": {
     "end_time": "2025-06-25T09:59:28.001008Z",
     "start_time": "2025-06-25T09:59:27.984146Z"
    }
   },
   "cell_type": "code",
   "source": [
    "train_y = torch.tensor([\n",
    "    [0.98, 8.5, 12.0],   # [Density, Roughness, Time]\n",
    "    [0.96, 9.0, 10.5],\n",
    "    [0.92, 10.5, 11.5],\n",
    "    [0.97, 8.0, 10.0],\n",
    "    [0.95, 9.3, 12.2],\n",
    "    [0.96, 9.1, 11.0],\n",
    "    [0.93, 10.0, 12.5],\n",
    "    [0.97, 8.7, 10.3],\n",
    "], dtype=torch.double)\n",
    "\n",
    "print(train_y.shape[0])"
   ],
   "id": "8e69643ca1e3f405",
   "outputs": [
    {
     "name": "stdout",
     "output_type": "stream",
     "text": [
      "8\n"
     ]
    }
   ],
   "execution_count": 3
  },
  {
   "metadata": {
    "ExecuteTime": {
     "end_time": "2025-06-25T10:34:19.588623Z",
     "start_time": "2025-06-25T10:34:19.578041Z"
    }
   },
   "cell_type": "code",
   "source": [
    "ref_point = [[0.96, 9.0, 10.4],\n",
    "              [0.92, 10.5, 11.5]]\n",
    "if not torch.is_tensor(ref_point):\n",
    "    ref_point = torch.tensor(ref_point, dtype=torch.double)\n",
    "    \n",
    "ref_point"
   ],
   "id": "5d7e7422dfe1d75b",
   "outputs": [
    {
     "data": {
      "text/plain": [
       "tensor([[ 0.9600,  9.0000, 10.4000],\n",
       "        [ 0.9200, 10.5000, 11.5000]], dtype=torch.float64)"
      ]
     },
     "execution_count": 16,
     "metadata": {},
     "output_type": "execute_result"
    }
   ],
   "execution_count": 16
  },
  {
   "metadata": {
    "ExecuteTime": {
     "end_time": "2025-06-25T10:12:25.093628Z",
     "start_time": "2025-06-25T10:12:25.077962Z"
    }
   },
   "cell_type": "code",
   "source": [
    "slack = None\n",
    "if ref_point is None and slack is None:\n",
    "    print(\"input ref_point or slack\")"
   ],
   "id": "e76f70ca64359388",
   "outputs": [],
   "execution_count": 15
  },
  {
   "metadata": {},
   "cell_type": "code",
   "outputs": [],
   "execution_count": null,
   "source": "",
   "id": "a6dbd22e29b67d5f"
  }
 ],
 "metadata": {
  "kernelspec": {
   "display_name": "Python 3",
   "language": "python",
   "name": "python3"
  },
  "language_info": {
   "codemirror_mode": {
    "name": "ipython",
    "version": 2
   },
   "file_extension": ".py",
   "mimetype": "text/x-python",
   "name": "python",
   "nbconvert_exporter": "python",
   "pygments_lexer": "ipython2",
   "version": "2.7.6"
  }
 },
 "nbformat": 4,
 "nbformat_minor": 5
}
