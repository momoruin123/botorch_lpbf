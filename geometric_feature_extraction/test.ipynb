{
 "cells": [
  {
   "metadata": {},
   "cell_type": "markdown",
   "source": "关于提取stp特征信息的测试",
   "id": "f32ee4aabd70f6b5"
  },
  {
   "cell_type": "code",
   "id": "initial_id",
   "metadata": {
    "collapsed": true,
    "ExecuteTime": {
     "start_time": "2025-07-29T12:33:28.255810Z"
    }
   },
   "source": [
    "import cadquery as cq\n",
    "import numpy as np\n",
    "import trimesh\n",
    "\n",
    "# 加载 STEP 文件\n",
    "part = cq.importers.importStep(\"my_part.stp\")\n",
    "\n",
    "# 获取几何对象\n",
    "solid = part.val()\n",
    "\n",
    "# 特征提取\n",
    "bbox = solid.BoundingBox()\n",
    "volume = solid.Volume()\n",
    "surface_area = solid.Area()\n",
    "center = solid.Center()\n",
    "\n",
    "# 统计结构复杂度\n",
    "num_faces = len(solid.Faces())\n",
    "num_edges = len(solid.Edges())\n",
    "num_solids = len(part.solids().vals())\n",
    "\n",
    "# 构建向量\n",
    "feature_vector = [\n",
    "    bbox.xlen, bbox.ylen, bbox.zlen,       # 尺寸\n",
    "    volume, surface_area,                  # 体积+表面积\n",
    "    center.x, center.y, center.z,          # 重心\n",
    "    num_faces, num_edges, num_solids       # 拓扑结构\n",
    "]\n",
    "\n",
    "print(\"几何特征向量:\", feature_vector)\n",
    "\n",
    "# STEP 文件导入\n",
    "shape = cq.importers.importStep(\"my_part.stp\").val()\n",
    "\n",
    "# 网格化（生成顶点 + 面片）\n",
    "raw_vertices, raw_faces = shape.tessellate(1.0)\n",
    "\n",
    "# 将 Vector 类型转为标准 float 数组\n",
    "vertices = np.array([[v.x, v.y, v.z] for v in raw_vertices], dtype=np.float64)\n",
    "faces = np.array(raw_faces, dtype=np.int64)\n",
    "\n",
    "# 构建 trimesh 对象\n",
    "mesh = trimesh.Trimesh(vertices=vertices, faces=faces)\n",
    "\n",
    "# 可视化（可选）\n",
    "# mesh.show()\n"
   ],
   "outputs": [
    {
     "name": "stdout",
     "output_type": "stream",
     "text": [
      "几何特征向量: [2200.455276750666, 107.480232008125, 110.5000001, 17817.207283287124, 13850.251743460405, 2253.5905297330523, 181.9699193828728, -7.583479736954674, 155, 367, 1]\n"
     ]
    }
   ],
   "execution_count": null
  },
  {
   "metadata": {
    "ExecuteTime": {
     "end_time": "2025-07-29T13:05:13.878044Z",
     "start_time": "2025-07-29T13:05:13.434989Z"
    }
   },
   "cell_type": "code",
   "source": [
    "import torch\n",
    "import cadquery as cq\n",
    "import numpy as np\n",
    "import trimesh\n",
    "from simple_autoencoder import PointNetEncoder\n",
    "# STEP 文件导入\n",
    "shape = cq.importers.importStep(\"my_part.stp\").val()\n",
    "\n",
    "# 网格化（生成顶点 + 面片）\n",
    "# raw_vertices 表示每个顶点的向量\n",
    "# raw_faces 每个三角形对应的顶点，一种连接关系\n",
    "raw_vertices, raw_faces = shape.tessellate(1.0)\n",
    "\n",
    "# 转 numpy\n",
    "vertices = np.array([[v.x, v.y, v.z] for v in raw_vertices], dtype=np.float64)\n",
    "faces = np.array(raw_faces, dtype=np.int64)\n",
    "\n",
    "# 构建 trimesh 对象\n",
    "mesh = trimesh.Trimesh(vertices=vertices, faces=faces)\n",
    "\n",
    "# 从 mesh 采样 1024 个点\n",
    "points = mesh.sample(1024)\n",
    "points = np.array(points, dtype=np.float32)\n",
    "\n",
    "# 转成 PyTorch Tensor [batch, N, 3]\n",
    "points_tensor = torch.tensor(points).unsqueeze(0)\n",
    "print(points_tensor.shape)  # (1, 1024, 3)\n",
    "print(points_tensor)  # (1, 1024, 3)\n",
    "\n",
    "encoder = PointNetEncoder(emb_dim=64)\n",
    "\n",
    "# 输入点云 Tensor (batch=1, N=1024, 3)\n",
    "out = encoder(points_tensor)\n",
    "print(out)\n",
    "print(out.shape)  # (1, 64)  -> 这就是几何 embedding"
   ],
   "id": "c04455b01474c284",
   "outputs": [
    {
     "name": "stdout",
     "output_type": "stream",
     "text": [
      "torch.Size([1, 1024, 3])\n",
      "tensor([[[2296.3638,  191.2544,   -8.0000],\n",
      "         [2254.0154,  207.4802,   -8.1927],\n",
      "         [2255.8584,  181.5598,  -10.5000],\n",
      "         ...,\n",
      "         [2277.8291,  159.7005,   -6.6428],\n",
      "         [2217.3765,  157.3333,   -8.1149],\n",
      "         [2241.5059,  158.2193,   -7.9073]]])\n",
      "tensor([[  -6.4373, -145.2244, -169.8031,   72.7563,   54.2577,  -37.0085,\n",
      "           17.9253,  101.8857,   -5.2086,   26.3775,   30.6453,  -54.6486,\n",
      "         -126.8712,  146.3412,  -36.9909,   64.2266,   53.4009,   29.2604,\n",
      "           96.0996,  -55.9712,  208.2715,  -43.6816,  178.7457,   47.1187,\n",
      "           46.8967,    3.6122,  196.1445,  -14.8343, -109.8733,   53.9591,\n",
      "           -0.8738,   -0.8278, -167.8523,  -57.6716,  -79.0665,  122.4648,\n",
      "          -46.7107,    6.9947,   92.7172,   24.7223,  -57.2824,  -33.0520,\n",
      "          153.2931,  268.6234,  -85.3424,   33.9558,   60.8223,  -93.7649,\n",
      "           -2.9476,  -21.5788,  -37.1331,   19.1873, -108.9713, -147.3761,\n",
      "          218.5430,  126.9797,  -80.3546,   48.7276,   12.9267,   38.3840,\n",
      "           16.4706,  -35.1337,   93.5689,  -45.5442]], grad_fn=<MaxBackward0>)\n",
      "torch.Size([1, 64])\n"
     ]
    }
   ],
   "execution_count": 13
  },
  {
   "metadata": {},
   "cell_type": "markdown",
   "source": "关于一个简单的神经网络测试",
   "id": "5cdc577d8f91f008"
  },
  {
   "metadata": {
    "ExecuteTime": {
     "end_time": "2025-07-29T12:24:22.602331Z",
     "start_time": "2025-07-29T12:24:20.397738Z"
    }
   },
   "cell_type": "code",
   "source": [
    "from simple_autoencoder import VoxelAutoencoder\n",
    "import torch\n",
    "# 假设输入数据是 [batch_size, channels, depth, height, width]\n",
    "x = torch.randn(8, 1, 32, 32, 32)  # batch=8, 单通道, 32^3 体素\n",
    "\n",
    "model = VoxelAutoencoder(input_channels=1, latent_dim=32)\n",
    "recon, z = model(x)\n",
    "\n",
    "print(\"输入体素:\", x.shape)\n",
    "print(\"重建体素:\", recon.shape)\n",
    "print(\"潜在向量:\", z.shape)\n"
   ],
   "id": "d99727124ce98915",
   "outputs": [
    {
     "name": "stdout",
     "output_type": "stream",
     "text": [
      "输入体素: torch.Size([8, 1, 32, 32, 32])\n",
      "重建体素: torch.Size([8, 1, 32, 32, 32])\n",
      "潜在向量: torch.Size([8, 32])\n"
     ]
    }
   ],
   "execution_count": 1
  },
  {
   "metadata": {},
   "cell_type": "code",
   "outputs": [],
   "execution_count": null,
   "source": "",
   "id": "6ed7aad4d9d4dcd9"
  }
 ],
 "metadata": {
  "kernelspec": {
   "display_name": "Python 3",
   "language": "python",
   "name": "python3"
  },
  "language_info": {
   "codemirror_mode": {
    "name": "ipython",
    "version": 2
   },
   "file_extension": ".py",
   "mimetype": "text/x-python",
   "name": "python",
   "nbconvert_exporter": "python",
   "pygments_lexer": "ipython2",
   "version": "2.7.6"
  }
 },
 "nbformat": 4,
 "nbformat_minor": 5
}
